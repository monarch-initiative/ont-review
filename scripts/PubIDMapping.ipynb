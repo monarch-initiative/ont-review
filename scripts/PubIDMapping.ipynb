{
 "cells": [
  {
   "cell_type": "markdown",
   "metadata": {},
   "source": [
    "# HPO ID Mapping"
   ]
  },
  {
   "cell_type": "code",
   "execution_count": null,
   "metadata": {},
   "outputs": [],
   "source": [
    "import requests\n",
    "import pandas as pd\n",
    "from plotly.offline import init_notebook_mode, iplot\n",
    "init_notebook_mode(connected=True)"
   ]
  },
  {
   "cell_type": "code",
   "execution_count": 3,
   "metadata": {},
   "outputs": [],
   "source": [
    "def get_pub_data(ext_id):\n",
    "    \"\"\"\n",
    "    make a request to europmc api for publication data based on identifer\n",
    "    arg: ext_id = pmid, pmcid, doi\n",
    "    \"\"\"\n",
    "    base_url = 'http://www.ebi.ac.uk/europepmc/webservices/rest/search'\n",
    "    params = {\n",
    "        'query': ext_id,\n",
    "        'resulttype': 'core',\n",
    "        'format': 'json'\n",
    "    }\n",
    "    try:\n",
    "        results = requests.get(url=base_url, params=params).json()\n",
    "        return results['resultList']['result'][0]\n",
    "    except Exception as e:\n",
    "        print(e)\n",
    "        return None"
   ]
  },
  {
   "cell_type": "code",
   "execution_count": 4,
   "metadata": {},
   "outputs": [],
   "source": [
    "# import the incomplete hpo mapping data\n",
    "hpo = pd.read_csv('HPO.csv')"
   ]
  },
  {
   "cell_type": "code",
   "execution_count": 5,
   "metadata": {},
   "outputs": [
    {
     "data": {
      "text/html": [
       "<div>\n",
       "<style scoped>\n",
       "    .dataframe tbody tr th:only-of-type {\n",
       "        vertical-align: middle;\n",
       "    }\n",
       "\n",
       "    .dataframe tbody tr th {\n",
       "        vertical-align: top;\n",
       "    }\n",
       "\n",
       "    .dataframe thead th {\n",
       "        text-align: right;\n",
       "    }\n",
       "</style>\n",
       "<table border=\"1\" class=\"dataframe\">\n",
       "  <thead>\n",
       "    <tr style=\"text-align: right;\">\n",
       "      <th></th>\n",
       "      <th>PMC</th>\n",
       "      <th>DOI</th>\n",
       "      <th>PMID</th>\n",
       "    </tr>\n",
       "  </thead>\n",
       "  <tbody>\n",
       "    <tr>\n",
       "      <th>0</th>\n",
       "      <td>PMC5639780</td>\n",
       "      <td>10.1186/s12859-017-1854-y</td>\n",
       "      <td>NaN</td>\n",
       "    </tr>\n",
       "    <tr>\n",
       "      <th>1</th>\n",
       "      <td>PMC4422517</td>\n",
       "      <td>10.1186/s13073-015-0151-5</td>\n",
       "      <td>NaN</td>\n",
       "    </tr>\n",
       "    <tr>\n",
       "      <th>2</th>\n",
       "      <td>PMC3965098</td>\n",
       "      <td>10.1093/nar/gkt1026</td>\n",
       "      <td>NaN</td>\n",
       "    </tr>\n",
       "    <tr>\n",
       "      <th>3</th>\n",
       "      <td>PMC4117966</td>\n",
       "      <td>10.1186/1471-2105-15-248</td>\n",
       "      <td>NaN</td>\n",
       "    </tr>\n",
       "    <tr>\n",
       "      <th>4</th>\n",
       "      <td>PMC4321842</td>\n",
       "      <td>10.1371/journal.pone.0115692</td>\n",
       "      <td>NaN</td>\n",
       "    </tr>\n",
       "  </tbody>\n",
       "</table>\n",
       "</div>"
      ],
      "text/plain": [
       "          PMC                           DOI  PMID\n",
       "0  PMC5639780     10.1186/s12859-017-1854-y   NaN\n",
       "1  PMC4422517     10.1186/s13073-015-0151-5   NaN\n",
       "2  PMC3965098           10.1093/nar/gkt1026   NaN\n",
       "3  PMC4117966      10.1186/1471-2105-15-248   NaN\n",
       "4  PMC4321842  10.1371/journal.pone.0115692   NaN"
      ]
     },
     "execution_count": 5,
     "metadata": {},
     "output_type": "execute_result"
    }
   ],
   "source": [
    "hpo.head()"
   ]
  },
  {
   "cell_type": "code",
   "execution_count": 51,
   "metadata": {},
   "outputs": [],
   "source": [
    "# return: value of key if it exists\n",
    "def key_check(key, obj):\n",
    "    if key in obj.keys():\n",
    "        return obj[key]\n",
    "    else:\n",
    "        return None"
   ]
  },
  {
   "cell_type": "code",
   "execution_count": 45,
   "metadata": {},
   "outputs": [],
   "source": [
    "# pmid and pubYear\n",
    "results = list()\n",
    "for index, row in hpo.iterrows():\n",
    "\n",
    "    if index < 100:\n",
    "        # fetch pub data from euroPMC\n",
    "        pub = get_pub_data(row[0])\n",
    "        results.append(\n",
    "            [\n",
    "                row[0], # PMC\n",
    "                row[1], # doi\n",
    "                key_check('pmid', pub), \n",
    "                key_check('pubYear', pub)\n",
    "            ]\n",
    "        )\n",
    "# create new dataframe with \n",
    "newFrame = pd.DataFrame(data=results, columns=['pmcid', 'doi', 'pmid', 'pubYear'])"
   ]
  },
  {
   "cell_type": "code",
   "execution_count": 52,
   "metadata": {},
   "outputs": [],
   "source": [
    "newFrame.to_csv('mapped_pubs.csv', sep=',')"
   ]
  },
  {
   "cell_type": "code",
   "execution_count": 47,
   "metadata": {},
   "outputs": [],
   "source": [
    "years = newFrame['pubYear'].value_counts()"
   ]
  },
  {
   "cell_type": "code",
   "execution_count": 54,
   "metadata": {},
   "outputs": [
    {
     "data": {
      "application/vnd.plotly.v1+json": {
       "data": [
        {
         "marker": {
          "color": "rgba(255, 153, 51, 0.6)",
          "line": {
           "color": "rgba(255, 153, 51, 1.0)",
           "width": 1
          }
         },
         "name": "pubYear",
         "orientation": "v",
         "text": "",
         "type": "bar",
         "x": [
          "2016",
          "2015",
          "2014",
          "2017",
          "2013",
          "2012",
          "2009",
          "2010",
          "2011",
          "2008"
         ],
         "y": [
          51,
          40,
          29,
          27,
          22,
          16,
          5,
          5,
          3,
          2
         ]
        }
       ],
       "layout": {
        "legend": {
         "bgcolor": "#F5F6F9",
         "font": {
          "color": "#4D5663"
         }
        },
        "paper_bgcolor": "#F5F6F9",
        "plot_bgcolor": "#F5F6F9",
        "title": "Mapped Publications",
        "titlefont": {
         "color": "#4D5663"
        },
        "xaxis1": {
         "gridcolor": "#E1E5ED",
         "showgrid": true,
         "tickfont": {
          "color": "#4D5663"
         },
         "title": "Dates",
         "titlefont": {
          "color": "#4D5663"
         },
         "zerolinecolor": "#E1E5ED"
        },
        "yaxis1": {
         "gridcolor": "#E1E5ED",
         "showgrid": true,
         "tickfont": {
          "color": "#4D5663"
         },
         "title": "Publications",
         "titlefont": {
          "color": "#4D5663"
         },
         "zerolinecolor": "#E1E5ED"
        }
       }
      },
      "text/html": [
       "<div id=\"daa920a6-0d03-4dc6-bbe4-75a6a395f55e\" style=\"height: 525px; width: 100%;\" class=\"plotly-graph-div\"></div><script type=\"text/javascript\">require([\"plotly\"], function(Plotly) { window.PLOTLYENV=window.PLOTLYENV || {};window.PLOTLYENV.BASE_URL=\"https://plot.ly\";Plotly.newPlot(\"daa920a6-0d03-4dc6-bbe4-75a6a395f55e\", [{\"type\": \"bar\", \"x\": [\"2016\", \"2015\", \"2014\", \"2017\", \"2013\", \"2012\", \"2009\", \"2010\", \"2011\", \"2008\"], \"y\": [51, 40, 29, 27, 22, 16, 5, 5, 3, 2], \"name\": \"pubYear\", \"text\": \"\", \"marker\": {\"color\": \"rgba(255, 153, 51, 0.6)\", \"line\": {\"color\": \"rgba(255, 153, 51, 1.0)\", \"width\": 1}}, \"orientation\": \"v\"}], {\"legend\": {\"bgcolor\": \"#F5F6F9\", \"font\": {\"color\": \"#4D5663\"}}, \"paper_bgcolor\": \"#F5F6F9\", \"plot_bgcolor\": \"#F5F6F9\", \"yaxis1\": {\"tickfont\": {\"color\": \"#4D5663\"}, \"gridcolor\": \"#E1E5ED\", \"titlefont\": {\"color\": \"#4D5663\"}, \"zerolinecolor\": \"#E1E5ED\", \"showgrid\": true, \"title\": \"Publications\"}, \"xaxis1\": {\"tickfont\": {\"color\": \"#4D5663\"}, \"gridcolor\": \"#E1E5ED\", \"titlefont\": {\"color\": \"#4D5663\"}, \"zerolinecolor\": \"#E1E5ED\", \"showgrid\": true, \"title\": \"Dates\"}, \"titlefont\": {\"color\": \"#4D5663\"}, \"title\": \"Mapped Publications\"}, {\"showLink\": true, \"linkText\": \"Export to plot.ly\"})});</script>"
      ],
      "text/vnd.plotly.v1+html": [
       "<div id=\"daa920a6-0d03-4dc6-bbe4-75a6a395f55e\" style=\"height: 525px; width: 100%;\" class=\"plotly-graph-div\"></div><script type=\"text/javascript\">require([\"plotly\"], function(Plotly) { window.PLOTLYENV=window.PLOTLYENV || {};window.PLOTLYENV.BASE_URL=\"https://plot.ly\";Plotly.newPlot(\"daa920a6-0d03-4dc6-bbe4-75a6a395f55e\", [{\"type\": \"bar\", \"x\": [\"2016\", \"2015\", \"2014\", \"2017\", \"2013\", \"2012\", \"2009\", \"2010\", \"2011\", \"2008\"], \"y\": [51, 40, 29, 27, 22, 16, 5, 5, 3, 2], \"name\": \"pubYear\", \"text\": \"\", \"marker\": {\"color\": \"rgba(255, 153, 51, 0.6)\", \"line\": {\"color\": \"rgba(255, 153, 51, 1.0)\", \"width\": 1}}, \"orientation\": \"v\"}], {\"legend\": {\"bgcolor\": \"#F5F6F9\", \"font\": {\"color\": \"#4D5663\"}}, \"paper_bgcolor\": \"#F5F6F9\", \"plot_bgcolor\": \"#F5F6F9\", \"yaxis1\": {\"tickfont\": {\"color\": \"#4D5663\"}, \"gridcolor\": \"#E1E5ED\", \"titlefont\": {\"color\": \"#4D5663\"}, \"zerolinecolor\": \"#E1E5ED\", \"showgrid\": true, \"title\": \"Publications\"}, \"xaxis1\": {\"tickfont\": {\"color\": \"#4D5663\"}, \"gridcolor\": \"#E1E5ED\", \"titlefont\": {\"color\": \"#4D5663\"}, \"zerolinecolor\": \"#E1E5ED\", \"showgrid\": true, \"title\": \"Dates\"}, \"titlefont\": {\"color\": \"#4D5663\"}, \"title\": \"Mapped Publications\"}, {\"showLink\": true, \"linkText\": \"Export to plot.ly\"})});</script>"
      ]
     },
     "metadata": {},
     "output_type": "display_data"
    }
   ],
   "source": [
    "# example plot of number of pubs per year\n",
    "iplot(years.iplot(\n",
    "    asFigure=True,\n",
    "    kind='bar',\n",
    "    xTitle='Dates',\n",
    "    yTitle='Publications',\n",
    "    title='Mapped Publications'\n",
    ")\n",
    "     )"
   ]
  },
  {
   "cell_type": "code",
   "execution_count": null,
   "metadata": {},
   "outputs": [],
   "source": []
  }
 ],
 "metadata": {
  "kernelspec": {
   "display_name": "Python 3",
   "language": "python",
   "name": "python3"
  },
  "language_info": {
   "codemirror_mode": {
    "name": "ipython",
    "version": 3
   },
   "file_extension": ".py",
   "mimetype": "text/x-python",
   "name": "python",
   "nbconvert_exporter": "python",
   "pygments_lexer": "ipython3",
   "version": "3.6.3"
  }
 },
 "nbformat": 4,
 "nbformat_minor": 2
}
