{
 "cells": [
  {
   "cell_type": "markdown",
   "metadata": {},
   "source": [
    "# HPO ID Mapping"
   ]
  },
  {
   "cell_type": "code",
   "execution_count": 1,
   "metadata": {},
   "outputs": [],
   "source": [
    "import requests\n",
    "import pandas as pd"
   ]
  },
  {
   "cell_type": "code",
   "execution_count": 2,
   "metadata": {},
   "outputs": [],
   "source": [
    "exPMCID = 'PMC5210586'"
   ]
  },
  {
   "cell_type": "code",
   "execution_count": 3,
   "metadata": {},
   "outputs": [],
   "source": [
    "def get_pub_data(ext_id):\n",
    "    \"\"\"\n",
    "    make a request to europmc api for publication data based on identifer\n",
    "    arg: ext_id = pmid, pmcid, doi\n",
    "    \"\"\"\n",
    "    base_url = 'http://www.ebi.ac.uk/europepmc/webservices/rest/search'\n",
    "    params = {\n",
    "        'query': ext_id,\n",
    "        'resulttype': 'core',\n",
    "        'format': 'json'\n",
    "    }\n",
    "    try:\n",
    "        results = requests.get(url=base_url, params=params).json()\n",
    "        return results['resultList']['result'][0]\n",
    "    except Exception as e:\n",
    "        print(e)\n",
    "        return None"
   ]
  },
  {
   "cell_type": "code",
   "execution_count": 8,
   "metadata": {},
   "outputs": [],
   "source": [
    "# import the incomplete hpo mapping data\n",
    "hpo = pd.read_csv('HPO.csv')"
   ]
  },
  {
   "cell_type": "code",
   "execution_count": 10,
   "metadata": {},
   "outputs": [
    {
     "data": {
      "text/html": [
       "<div>\n",
       "<style scoped>\n",
       "    .dataframe tbody tr th:only-of-type {\n",
       "        vertical-align: middle;\n",
       "    }\n",
       "\n",
       "    .dataframe tbody tr th {\n",
       "        vertical-align: top;\n",
       "    }\n",
       "\n",
       "    .dataframe thead th {\n",
       "        text-align: right;\n",
       "    }\n",
       "</style>\n",
       "<table border=\"1\" class=\"dataframe\">\n",
       "  <thead>\n",
       "    <tr style=\"text-align: right;\">\n",
       "      <th></th>\n",
       "      <th>PMC</th>\n",
       "      <th>DOI</th>\n",
       "      <th>PMID</th>\n",
       "    </tr>\n",
       "  </thead>\n",
       "  <tbody>\n",
       "    <tr>\n",
       "      <th>0</th>\n",
       "      <td>PMC5639780</td>\n",
       "      <td>10.1186/s12859-017-1854-y</td>\n",
       "      <td>NaN</td>\n",
       "    </tr>\n",
       "    <tr>\n",
       "      <th>1</th>\n",
       "      <td>PMC4422517</td>\n",
       "      <td>10.1186/s13073-015-0151-5</td>\n",
       "      <td>NaN</td>\n",
       "    </tr>\n",
       "    <tr>\n",
       "      <th>2</th>\n",
       "      <td>PMC3965098</td>\n",
       "      <td>10.1093/nar/gkt1026</td>\n",
       "      <td>NaN</td>\n",
       "    </tr>\n",
       "    <tr>\n",
       "      <th>3</th>\n",
       "      <td>PMC4117966</td>\n",
       "      <td>10.1186/1471-2105-15-248</td>\n",
       "      <td>NaN</td>\n",
       "    </tr>\n",
       "    <tr>\n",
       "      <th>4</th>\n",
       "      <td>PMC4321842</td>\n",
       "      <td>10.1371/journal.pone.0115692</td>\n",
       "      <td>NaN</td>\n",
       "    </tr>\n",
       "  </tbody>\n",
       "</table>\n",
       "</div>"
      ],
      "text/plain": [
       "          PMC                           DOI  PMID\n",
       "0  PMC5639780     10.1186/s12859-017-1854-y   NaN\n",
       "1  PMC4422517     10.1186/s13073-015-0151-5   NaN\n",
       "2  PMC3965098           10.1093/nar/gkt1026   NaN\n",
       "3  PMC4117966      10.1186/1471-2105-15-248   NaN\n",
       "4  PMC4321842  10.1371/journal.pone.0115692   NaN"
      ]
     },
     "execution_count": 10,
     "metadata": {},
     "output_type": "execute_result"
    }
   ],
   "source": [
    "hpo.head()"
   ]
  },
  {
   "cell_type": "code",
   "execution_count": 6,
   "metadata": {},
   "outputs": [],
   "source": [
    "# pmid and pubYear\n",
    "results = list()\n",
    "for index, row in hpo.iterrows():\n",
    "    # limiting to 10 rows for testing\n",
    "    if index < 10:\n",
    "        pub = get_pub_data(row[0])\n",
    "        results.append([row[0], row[1], pub['pmid'], pub['pubYear']])\n",
    "newFrame = pd.DataFrame(data=results, columns=['pmid', 'doi', 'pmcid', 'pubyear'])"
   ]
  },
  {
   "cell_type": "code",
   "execution_count": 7,
   "metadata": {},
   "outputs": [
    {
     "data": {
      "text/html": [
       "<div>\n",
       "<style scoped>\n",
       "    .dataframe tbody tr th:only-of-type {\n",
       "        vertical-align: middle;\n",
       "    }\n",
       "\n",
       "    .dataframe tbody tr th {\n",
       "        vertical-align: top;\n",
       "    }\n",
       "\n",
       "    .dataframe thead th {\n",
       "        text-align: right;\n",
       "    }\n",
       "</style>\n",
       "<table border=\"1\" class=\"dataframe\">\n",
       "  <thead>\n",
       "    <tr style=\"text-align: right;\">\n",
       "      <th></th>\n",
       "      <th>pmid</th>\n",
       "      <th>doi</th>\n",
       "      <th>pmcid</th>\n",
       "      <th>pubyear</th>\n",
       "    </tr>\n",
       "  </thead>\n",
       "  <tbody>\n",
       "    <tr>\n",
       "      <th>0</th>\n",
       "      <td>PMC5639780</td>\n",
       "      <td>10.1186/s12859-017-1854-y</td>\n",
       "      <td>29025394</td>\n",
       "      <td>2017</td>\n",
       "    </tr>\n",
       "    <tr>\n",
       "      <th>1</th>\n",
       "      <td>PMC4422517</td>\n",
       "      <td>10.1186/s13073-015-0151-5</td>\n",
       "      <td>25949529</td>\n",
       "      <td>2015</td>\n",
       "    </tr>\n",
       "    <tr>\n",
       "      <th>2</th>\n",
       "      <td>PMC3965098</td>\n",
       "      <td>10.1093/nar/gkt1026</td>\n",
       "      <td>24217912</td>\n",
       "      <td>2014</td>\n",
       "    </tr>\n",
       "    <tr>\n",
       "      <th>3</th>\n",
       "      <td>PMC4117966</td>\n",
       "      <td>10.1186/1471-2105-15-248</td>\n",
       "      <td>25047600</td>\n",
       "      <td>2014</td>\n",
       "    </tr>\n",
       "    <tr>\n",
       "      <th>4</th>\n",
       "      <td>PMC4321842</td>\n",
       "      <td>10.1371/journal.pone.0115692</td>\n",
       "      <td>25664462</td>\n",
       "      <td>2015</td>\n",
       "    </tr>\n",
       "    <tr>\n",
       "      <th>5</th>\n",
       "      <td>PMC5210535</td>\n",
       "      <td>10.1093/nar/gkw1039</td>\n",
       "      <td>27899602</td>\n",
       "      <td>2017</td>\n",
       "    </tr>\n",
       "    <tr>\n",
       "      <th>6</th>\n",
       "      <td>PMC5635572</td>\n",
       "      <td>10.1186/s12859-017-1858-7</td>\n",
       "      <td>29017443</td>\n",
       "      <td>2017</td>\n",
       "    </tr>\n",
       "    <tr>\n",
       "      <th>7</th>\n",
       "      <td>PMC4572507</td>\n",
       "      <td>10.1016/j.ajhg.2015.05.020</td>\n",
       "      <td>26119816</td>\n",
       "      <td>2015</td>\n",
       "    </tr>\n",
       "    <tr>\n",
       "      <th>8</th>\n",
       "      <td>PMC4722686</td>\n",
       "      <td>10.12688/f1000research.6670.1</td>\n",
       "      <td>26834980</td>\n",
       "      <td>2015</td>\n",
       "    </tr>\n",
       "    <tr>\n",
       "      <th>9</th>\n",
       "      <td>PMC4343077</td>\n",
       "      <td>10.1093/database/bav005</td>\n",
       "      <td>25725061</td>\n",
       "      <td>2015</td>\n",
       "    </tr>\n",
       "  </tbody>\n",
       "</table>\n",
       "</div>"
      ],
      "text/plain": [
       "         pmid                            doi     pmcid pubyear\n",
       "0  PMC5639780      10.1186/s12859-017-1854-y  29025394    2017\n",
       "1  PMC4422517      10.1186/s13073-015-0151-5  25949529    2015\n",
       "2  PMC3965098            10.1093/nar/gkt1026  24217912    2014\n",
       "3  PMC4117966       10.1186/1471-2105-15-248  25047600    2014\n",
       "4  PMC4321842   10.1371/journal.pone.0115692  25664462    2015\n",
       "5  PMC5210535            10.1093/nar/gkw1039  27899602    2017\n",
       "6  PMC5635572      10.1186/s12859-017-1858-7  29017443    2017\n",
       "7  PMC4572507     10.1016/j.ajhg.2015.05.020  26119816    2015\n",
       "8  PMC4722686  10.12688/f1000research.6670.1  26834980    2015\n",
       "9  PMC4343077        10.1093/database/bav005  25725061    2015"
      ]
     },
     "execution_count": 7,
     "metadata": {},
     "output_type": "execute_result"
    }
   ],
   "source": [
    "newFrame"
   ]
  },
  {
   "cell_type": "code",
   "execution_count": 11,
   "metadata": {},
   "outputs": [],
   "source": [
    "newFrame.to_csv('mapped_hpo_pub_ids.csv', sep=',')"
   ]
  },
  {
   "cell_type": "code",
   "execution_count": null,
   "metadata": {},
   "outputs": [],
   "source": []
  }
 ],
 "metadata": {
  "kernelspec": {
   "display_name": "Python 3",
   "language": "python",
   "name": "python3"
  },
  "language_info": {
   "codemirror_mode": {
    "name": "ipython",
    "version": 3
   },
   "file_extension": ".py",
   "mimetype": "text/x-python",
   "name": "python",
   "nbconvert_exporter": "python",
   "pygments_lexer": "ipython3",
   "version": "3.6.3"
  }
 },
 "nbformat": 4,
 "nbformat_minor": 2
}
