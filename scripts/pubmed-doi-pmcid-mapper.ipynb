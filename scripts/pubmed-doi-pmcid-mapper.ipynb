{
 "cells": [
  {
   "cell_type": "markdown",
   "metadata": {},
   "source": [
    "# HPO ID Mapping"
    "Mapping identifiers for publications is painful; few bulk-submission tools exist, and, where they do, they only work on a subset of IDs (eg those that have a PMCID, or happen to be part of crossref's corpus etc.). This script can take a list of PMCIDs, DOIs, or PMIDs and return the corresponding mapped IDs and publication year. It stitches together three services (europePMC, pubmed Utils and crossref to get the broadest coverage of IDs.)"
   ]
  },
  {
   "cell_type": "code",
   "execution_count": 60,
   "metadata": {},
   "outputs": [],
   "source": [
    "import requests\n",
    "import pandas as pd\n",
    "import json\n",
    "from pprint import pprint"
   ]
  },
  {
   "cell_type": "code",
   "execution_count": 61,
   "metadata": {},
   "outputs": [],
   "source": [
    "# import the list of HPO DOIs\n",
    "queryIds = pd.read_csv('missing_dois_for_lookup.csv')"
   ]
  },
  {
   "cell_type": "code",
   "execution_count": 62,
   "metadata": {},
   "source": [
    "print(\"Started ...\")\n",
    "problemUrls = list()\n",
    "results = list()\n",
    "for index, row in queryIds.iterrows():\n",
    "    row_dict = {\n",
    "        'pmcid': None,\n",
    "        'doi': pubid,\n",
    "        'pmid': None,\n",
    "        'pubyear': None,\n",
    "    }\n",
    "    if index < 5000:\n",
    "        if index%5==0:\n",
    "            print(index)\n",
    "        # to search by other id use row_dict['pmid]\n",
    "        pubid = row[0]\n",
    "        response = epmc_id_lookup(pubid)\n",
    "        \n",
    "        if response!=None:\n",
    "            row_dict['doi'] = pubid #todo fix\n",
    "            row_dict['pmcid'] = key_check('pmcid',response)\n",
    "            row_dict['pmid'] = key_check('id',response)\n",
    "            row_dict['pubyear'] = key_check('pubYear',response)\n",
    "        else:\n",
    "#           check to see if it is a DOI\n",
    "            if (\"10.\" in pubid):\n",
    "                try: \n",
    "                    row_dict['pubyear'] = get_pub_yr_crossref(pubid)\n",
    "                except Exception as f:\n",
    "                    print(\"Failed at crossref: \")\n",
    "                    print(f)\n",
    "            else:\n",
    "                print(\"Requested \"+ pubid + \" but this call can only be used with a DOI\")\n",
    "#       append the results, whether from epmc or crossref  \n",
    "#         pprint(row_dict)   \n",
    "        results.append(row_dict)\n",
    "    \n",
    "printProbUrls()\n"
   ]
  },
  {
   "cell_type": "code",
   "execution_count": 116,
   "metadata": {},
   "outputs": [],
   "source": [
    "newFrame = pd.DataFrame(data=results)\n",
    "newFrame.to_csv('mapped_ids.csv')"
   ]
  },
  {
   "cell_type": "code",
   "execution_count": null,
   "metadata": {},
   "outputs": [],
   "source": [
    "newFrame"
   ]
  },
  {
   "cell_type": "code",
   "execution_count": null,
   "metadata": {},
   "outputs": [],
   "source": []
  }
 ],
 "metadata": {
  "kernelspec": {
   "display_name": "Python 3",
   "language": "python",
   "name": "python3"
  },
  "language_info": {
   "codemirror_mode": {
    "name": "ipython",
    "version": 3
   },
   "file_extension": ".py",
   "mimetype": "text/x-python",
   "name": "python",
   "nbconvert_exporter": "python",
   "pygments_lexer": "ipython3",
   "version": "3.6.3"
  }
 },
 "nbformat": 4,
 "nbformat_minor": 2
}
