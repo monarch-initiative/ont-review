{
 "cells": [
  {
   "cell_type": "markdown",
   "metadata": {},
   "source": [
    "# HPO ID Mapping"
   ]
  },
    {
   "cell_type": "markdown",
   "metadata": {},
   "source": [
    "This script takes a list of IDs of type PMID, PMCID, or DOI, a specification of what type to expect, and returns a CSV of corresponding mapped IDs (if available), together with the publication year. Format the input file with one ID per line with PMIDs as bare numerics like 27899602, PMCIDs like PMC5210535 and DOIs like 10.1093/nar/gkw1039"
   ]
  },
  {
   "cell_type": "code",
   "execution_count": 61,
   "metadata": {},
   "outputs": [],
   "source": [
    "import requests\n",
    "import pandas as pd\n",
    "import json\n",
    "from pprint import pprint"
   ]
  },
  {
   "cell_type": "code",
   "execution_count": 62,
   "metadata": {},
   "outputs": [],
   "source": [
    "# import the list of HPO DOIs\n",
    "queryIds = pd.read_csv('missing_dois_for_lookup.csv')\n",
    "inputType = \"doi\""
   ]
  },
  {
   "cell_type": "code",
   "execution_count": 63,
   "metadata": {},
   "outputs": [
    {
     "data": {
      "text/html": [
       "<div>\n",
       "<style scoped>\n",
       "    .dataframe tbody tr th:only-of-type {\n",
       "        vertical-align: middle;\n",
       "    }\n",
       "\n",
       "    .dataframe tbody tr th {\n",
       "        vertical-align: top;\n",
       "    }\n",
       "\n",
       "    .dataframe thead th {\n",
       "        text-align: right;\n",
       "    }\n",
       "</style>\n",
       "<table border=\"1\" class=\"dataframe\">\n",
       "  <thead>\n",
       "    <tr style=\"text-align: right;\">\n",
       "      <th></th>\n",
       "      <th>doi</th>\n",
       "    </tr>\n",
       "  </thead>\n",
       "  <tbody>\n",
       "    <tr>\n",
       "      <th>0</th>\n",
       "      <td>10.1001/jama.280.15.1325</td>\n",
       "    </tr>\n",
       "    <tr>\n",
       "      <th>1</th>\n",
       "      <td>10.1006/jbin.2002.1035</td>\n",
       "    </tr>\n",
       "    <tr>\n",
       "      <th>2</th>\n",
       "      <td>10.1007/978-1-4471-2801-4</td>\n",
       "    </tr>\n",
       "    <tr>\n",
       "      <th>3</th>\n",
       "      <td>10.1007/978-3-319-21843-4_3</td>\n",
       "    </tr>\n",
       "    <tr>\n",
       "      <th>4</th>\n",
       "      <td>10.1007/978-3-319-23344-4_15</td>\n",
       "    </tr>\n",
       "  </tbody>\n",
       "</table>\n",
       "</div>"
      ],
      "text/plain": [
       "                            doi\n",
       "0      10.1001/jama.280.15.1325\n",
       "1        10.1006/jbin.2002.1035\n",
       "2     10.1007/978-1-4471-2801-4\n",
       "3   10.1007/978-3-319-21843-4_3\n",
       "4  10.1007/978-3-319-23344-4_15"
      ]
     },
     "execution_count": 63,
     "metadata": {},
     "output_type": "execute_result"
    }
   ],
   "source": [
    "queryIds.head()"
   ]
  },
  {
   "cell_type": "markdown",
   "metadata": {},
   "source": [
    "## Method definitions"
   ]
  },
  {
   "cell_type": "code",
   "execution_count": 64,
   "metadata": {},
   "outputs": [],
   "source": [
    "import xml.etree.ElementTree as ET\n",
    "\n",
    "problemUrls = list()\n",
    "\n",
    "def printProbUrls():\n",
    "    pprint(problemUrls)\n",
    "\n",
    "# check to see if object exists before returning it\n",
    "def key_check(key, obj):\n",
    "    if key in obj.keys():\n",
    "        return str(obj[key])\n",
    "    else:\n",
    "        return None\n",
    "    \n",
    "def eutils_pmc_search(phrase):\n",
    "    print(phrase)\n",
    "    base_url = \"https://eutils.ncbi.nlm.nih.gov/entrez/eutils/esearch.fcgi?\"\n",
    "    params = {\n",
    "        'retmode':'json',\n",
    "        'db':'pmc',\n",
    "        'term':phrase,\n",
    "        'retmax':1000\n",
    "    }\n",
    "    composedUrl = None\n",
    "\n",
    "    try:\n",
    "        results = requests.get(url=base_url, params=params)\n",
    "        composedUrl = results.url\n",
    "        resultsjson = results.json()\n",
    "        allresults = resultsjson['esearchresult']['idlist']\n",
    "        pprint(allresults)\n",
    "        return allresults\n",
    "    except Exception as e:\n",
    "        print(e)\n",
    "        print(composedUrl)\n",
    "        problemUrls.append(composedUrl)\n",
    "        return None\n",
    "\n",
    "def epmc_id_lookup(pubid):\n",
    "    \"\"\"\n",
    "    make a request to europmc api for publication data based on identifer\n",
    "    arg: ext_id = pmid, pmcid, doi\n",
    "    \"\"\"\n",
    "    base_url = 'http://www.ebi.ac.uk/europepmc/webservices/rest/search'\n",
    "    params = {\n",
    "        'query':pubid,\n",
    "        'resulttype':'core',\n",
    "        'format': 'json'\n",
    "    }\n",
    "    \n",
    "    try:\n",
    "        results = requests.get(url=base_url, params=params)\n",
    "#         print (results.url)\n",
    "        resultsjson = results.json()\n",
    "        allresults = resultsjson['resultList']['result']\n",
    "        \n",
    "        # if they don't have this ID (if this happens it is usually because of a DOI)\n",
    "        if(len(allresults)==0):\n",
    "            return None\n",
    "        \n",
    "        # else test if this is a DOI\n",
    "        else:\n",
    "            if(\"10.\" in str(pubid)):\n",
    "                \"\"\"\n",
    "                searching for PMIDs and PMCIDs gets you a single definitive result; for some reason\n",
    "                ...searching by DOI gets several results, so iterate and find the one that matches the input ID  \n",
    "                \"\"\"\n",
    "                found = False\n",
    "\n",
    "                for aresult in allresults:\n",
    "                    if \"doi\" in aresult.keys():\n",
    "                        if (aresult['doi']) == pubid:\n",
    "                            found = True\n",
    "                            return aresult\n",
    "                        # else queried ID is not a DOI but a PMCID or PMID,\n",
    "                        # ergo the stanza we want is just at index 0\n",
    "                # if we've iterated through all responses and haven't found a match\n",
    "                if found==False:\n",
    "                    print(\"Exact match not found \"+results.url)\n",
    "                #    pprint(allresults)\n",
    "            else:\n",
    "#                 print (\"Warning, searched for \"+str(pubid)+ \", not a DOI\")\n",
    "                return allresults[0]\n",
    "\n",
    "    except Exception as e:\n",
    "        print(\"ERROR PARSING: \"+ url + \" at \")\n",
    "        print(e)\n",
    "        return None\n",
    "\n",
    "def get_pub_yr_crossref(doi):\n",
    "    \"\"\"\n",
    "    when the DOI has no corresponding pmid or pmcid, make a request to crossref api for pubyear\n",
    "    \"\"\"\n",
    "    base_url = 'https://api.crossref.org/works/'\n",
    "    url = base_url+doi\n",
    "\n",
    "    try:\n",
    "        results = requests.get(url).json()\n",
    "#         pprint(results['message'][\"created\"][\"date-parts\"][0][0])\n",
    " \n",
    "        if (str(results)==\"<Response [404]>\"):\n",
    "            print(\"NO RESULT: \"+url)\n",
    "            return None\n",
    "        \n",
    "        pubyr = None\n",
    "#         if(results == \"Resource not found.\") return pubyr\n",
    "    \n",
    "        if \"published-online\" in results['message'].keys():\n",
    "            pubyr = results['message'][\"published-online\"][\"date-parts\"][0][0]\n",
    "#             print(\"online pubyr: \"+str(pubyr))\n",
    "        else: \n",
    "            if \"published-print\" in results['message'].keys():\n",
    "                pubyr = results['message'][\"published-print\"][\"date-parts\"][0][0]  \n",
    "            else: \n",
    "                if \"created\" in results['message'].keys():\n",
    "                    pubyr = results['message'][\"created\"][\"date-parts\"][0][0]   \n",
    "#         print(pubyr)\n",
    "        return pubyr\n",
    "    \n",
    "    except Exception as f:\n",
    "        if \"Expecting value: line 1 column 1 (char 0)\" in str(f):\n",
    "            print(doi +\" not found in crossref\")\n",
    "        else:\n",
    "            print(\"ERROR PARSING: \"+ url)\n",
    "            print(f)\n",
    "        return None"
   ]
  },
  {
   "cell_type": "markdown",
   "metadata": {},
   "source": [
    "## Main"
   ]
  },
  {
   "cell_type": "code",
   "execution_count": 65,
   "metadata": {},
   "outputs": [
    {
     "name": "stdout",
     "output_type": "stream",
     "text": [
      "Started ...\n",
      "0\n",
      "[]\n"
     ]
    }
   ],
   "source": [
    "print(\"Started ...\")\n",
    "problemUrls = list()\n",
    "results = list()\n",
    "\n",
    "for index, row in queryIds.iterrows():\n",
    "    row_dict = {\n",
    "        'doi': row[0] if inputType == 'doi' else None,\n",
    "        'pmid': row[0] if inputType == 'pmid' else None,\n",
    "        'pmcid': row[0] if inputType == 'pmcid' else None,\n",
    "        'pubyear': None\n",
    "    }\n",
    "    if index <5:\n",
    "        if index%50==0:\n",
    "            print(index)\n",
    "        # to search by other id use row_dict['pmid]\n",
    "        pubid = row[0]\n",
    "        response = epmc_id_lookup(pubid)\n",
    "        \n",
    "        if response!=None:\n",
    "            row_dict['doi'] = pubid if inputType == 'doi' else key_check('doi',response)\n",
    "            row_dict['pmid'] = pubid if inputType == 'pmid' else key_check('pmid',response)\n",
    "            row_dict['pmcid'] = pubid if inputType == 'pmcid' else key_check('pmcid',response)\n",
    "            row_dict['pubyear'] = key_check('pubYear',response)\n",
    "        else:\n",
    "#           check to see if it is a DOI\n",
    "            if (\"10.\" in pubid):\n",
    "                try: \n",
    "                    row_dict['pubyear'] = get_pub_yr_crossref(pubid)\n",
    "                except Exception as f:\n",
    "                    print(\"Failed at crossref: \")\n",
    "                    print(f)\n",
    "            else:\n",
    "                print(\"Requested \"+ pubid + \" but this call can only be used with a DOI\")\n",
    "#       append the results, whether from epmc or crossref  \n",
    "#         pprint(row_dict)   \n",
    "        results.append(row_dict)\n",
    "    \n",
    "printProbUrls()\n"
   ]
  },
  {
   "cell_type": "code",
   "execution_count": 66,
   "metadata": {},
   "outputs": [],
   "source": [
    "newFrame = pd.DataFrame(data=results)\n",
    "newFrame.to_csv('mapped_ids.csv')"
   ]
  },
  {
   "cell_type": "code",
   "execution_count": null,
   "metadata": {},
   "outputs": [],
   "source": []
  }
 ],
 "metadata": {
  "kernelspec": {
   "display_name": "Python 3",
   "language": "python",
   "name": "python3"
  },
  "language_info": {
   "codemirror_mode": {
    "name": "ipython",
    "version": 3
   },
   "file_extension": ".py",
   "mimetype": "text/x-python",
   "name": "python",
   "nbconvert_exporter": "python",
   "pygments_lexer": "ipython3",
   "version": "3.6.3"
  }
 },
 "nbformat": 4,
 "nbformat_minor": 2
}
