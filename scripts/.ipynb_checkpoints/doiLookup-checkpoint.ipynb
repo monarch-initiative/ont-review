{
 "cells": [
  {
   "cell_type": "markdown",
   "metadata": {},
   "source": [
    "# HPO ID Mapping"
   ]
  },
  {
   "cell_type": "code",
   "execution_count": 13,
   "metadata": {},
   "outputs": [],
   "source": [
    "import requests\n",
    "import pandas as pd\n",
    "import json\n",
    "from pprint import pprint"
   ]
  },
  {
   "cell_type": "code",
   "execution_count": 14,
   "metadata": {},
   "outputs": [],
   "source": [
    "# import the list of HPO DOIs\n",
    "hpo = pd.read_csv('HPO_DOI_citations.csv')"
   ]
  },
  {
   "cell_type": "code",
   "execution_count": 15,
   "metadata": {},
   "outputs": [
    {
     "data": {
      "text/html": [
       "<div>\n",
       "<style scoped>\n",
       "    .dataframe tbody tr th:only-of-type {\n",
       "        vertical-align: middle;\n",
       "    }\n",
       "\n",
       "    .dataframe tbody tr th {\n",
       "        vertical-align: top;\n",
       "    }\n",
       "\n",
       "    .dataframe thead th {\n",
       "        text-align: right;\n",
       "    }\n",
       "</style>\n",
       "<table border=\"1\" class=\"dataframe\">\n",
       "  <thead>\n",
       "    <tr style=\"text-align: right;\">\n",
       "      <th></th>\n",
       "      <th>10.1186/s13326-017-0144-y</th>\n",
       "    </tr>\n",
       "  </thead>\n",
       "  <tbody>\n",
       "    <tr>\n",
       "      <th>0</th>\n",
       "      <td>10.1080/03610926.2016.1197254</td>\n",
       "    </tr>\n",
       "    <tr>\n",
       "      <th>1</th>\n",
       "      <td>10.1016/j.jbi.2017.07.012</td>\n",
       "    </tr>\n",
       "    <tr>\n",
       "      <th>2</th>\n",
       "      <td>10.1007/s11427-017-9099-3</td>\n",
       "    </tr>\n",
       "    <tr>\n",
       "      <th>3</th>\n",
       "      <td>10.1007/s00103-017-2538-5</td>\n",
       "    </tr>\n",
       "    <tr>\n",
       "      <th>4</th>\n",
       "      <td>10.3389/FPUBH.2017.00066</td>\n",
       "    </tr>\n",
       "  </tbody>\n",
       "</table>\n",
       "</div>"
      ],
      "text/plain": [
       "       10.1186/s13326-017-0144-y\n",
       "0  10.1080/03610926.2016.1197254\n",
       "1      10.1016/j.jbi.2017.07.012\n",
       "2      10.1007/s11427-017-9099-3\n",
       "3      10.1007/s00103-017-2538-5\n",
       "4       10.3389/FPUBH.2017.00066"
      ]
     },
     "execution_count": 15,
     "metadata": {},
     "output_type": "execute_result"
    }
   ],
   "source": [
    "hpo.head()"
   ]
  },
  {
   "cell_type": "markdown",
   "metadata": {},
   "source": [
    "## Method definitions"
   ]
  },
  {
   "cell_type": "code",
   "execution_count": 24,
   "metadata": {},
   "outputs": [
    {
     "ename": "IndentationError",
     "evalue": "expected an indented block (<ipython-input-24-8a49ad60ad30>, line 32)",
     "output_type": "error",
     "traceback": [
      "\u001b[0;36m  File \u001b[0;32m\"<ipython-input-24-8a49ad60ad30>\"\u001b[0;36m, line \u001b[0;32m32\u001b[0m\n\u001b[0;31m    \"\"\"\u001b[0m\n\u001b[0m       \n^\u001b[0m\n\u001b[0;31mIndentationError\u001b[0m\u001b[0;31m:\u001b[0m expected an indented block\n"
     ]
    }
   ],
   "source": [
    "import xml.etree.ElementTree as ET\n",
    "\n",
    "# check to see if object exists before returning it\n",
    "def key_check(key, obj):\n",
    "    if key in obj.keys():\n",
    "        return obj[key]\n",
    "    else:\n",
    "        return None\n",
    "\n",
    "def epmc_id_lookup(pubid):\n",
    "    \"\"\"\n",
    "    make a request to europmc api for publication data based on identifer\n",
    "    arg: ext_id = pmid, pmcid, doi\n",
    "    \"\"\"\n",
    "    base_url = 'http://www.ebi.ac.uk/europepmc/webservices/rest/search'\n",
    "    params = {\n",
    "        'query': pubid,\n",
    "        'resulttype': 'core',\n",
    "        'format': 'json'\n",
    "    }\n",
    "    \n",
    "    try:\n",
    "        results = requests.get(url=base_url, params=params)\n",
    "        print (results.url)\n",
    "        resultsjson = results.json()\n",
    "        allresults = resultsjson['resultList']['result']\n",
    "        #       test if this is a DOI\n",
    "        if(\"10.\" in pubid):\n",
    "            \"\"\"\n",
    "            searching for PMIDs and PMCIDs gets you a single definitive result; for some reason\n",
    "            ...searching by DOI gets several results, so iterate and find the one that matches the input ID  \n",
    "            \"\"\"\n",
    "            for aresult in allresults:\n",
    "                if (aresult['doi']) == pubid:\n",
    "                    return aresult\n",
    "                # else queried ID is not a DOI but a PMCID or PMID,\n",
    "                # ergo the stanza we want is just at index 0\n",
    "                else:\n",
    "                    print ()\n",
    "                    return allresults[0]\n",
    "    except Exception as e:\n",
    "        print(e)\n",
    "        return None\n",
    "\n",
    "def get_pub_yr_crossref(doi):\n",
    "    \"\"\"\n",
    "    when the DOI has no corresponding pmid or pmcid, make a request to crossref api for pubyear\n",
    "    \"\"\"\n",
    "    base_url = 'https://api.crossref.org/works/'\n",
    "    url = base_url+doi\n",
    "    print(url)\n",
    "    try:\n",
    "        results = requests.get(url).json()\n",
    "        pubyr = None\n",
    "\n",
    "        if \"published-online\" in results['message'].keys():\n",
    "            pubyr = results['message'][\"published-online\"][\"date-parts\"][0][0]\n",
    "#             print(\"online pubyr: \"+str(pubyr))\n",
    "        else: \n",
    "            pubyr = results['message'][\"published-print\"][\"date-parts\"][0][0]    \n",
    "#             print(\"print pubyr: \"+str(pubyr))\n",
    "        return pubyr\n",
    "    \n",
    "    except Exception as e:\n",
    "        print(e)\n",
    "        return None"
   ]
  },
  {
   "cell_type": "markdown",
   "metadata": {},
   "source": [
    "## Main"
   ]
  },
  {
   "cell_type": "code",
   "execution_count": 17,
   "metadata": {},
   "outputs": [
    {
     "ename": "NameError",
     "evalue": "name 'epmc_id_lookup' is not defined",
     "output_type": "error",
     "traceback": [
      "\u001b[0;31m---------------------------------------------------------------------------\u001b[0m",
      "\u001b[0;31mNameError\u001b[0m                                 Traceback (most recent call last)",
      "\u001b[0;32m<ipython-input-17-3f1f24e7284e>\u001b[0m in \u001b[0;36m<module>\u001b[0;34m()\u001b[0m\n\u001b[1;32m     10\u001b[0m         \u001b[0;31m# to search by other id use row_dict['pmid]\u001b[0m\u001b[0;34m\u001b[0m\u001b[0;34m\u001b[0m\u001b[0m\n\u001b[1;32m     11\u001b[0m         \u001b[0mpubid\u001b[0m \u001b[0;34m=\u001b[0m \u001b[0mrow_dict\u001b[0m\u001b[0;34m[\u001b[0m\u001b[0;34m'doi'\u001b[0m\u001b[0;34m]\u001b[0m\u001b[0;34m\u001b[0m\u001b[0m\n\u001b[0;32m---> 12\u001b[0;31m         \u001b[0mresponse\u001b[0m \u001b[0;34m=\u001b[0m \u001b[0mepmc_id_lookup\u001b[0m\u001b[0;34m(\u001b[0m\u001b[0mpubid\u001b[0m\u001b[0;34m)\u001b[0m\u001b[0;34m\u001b[0m\u001b[0m\n\u001b[0m\u001b[1;32m     13\u001b[0m \u001b[0;34m\u001b[0m\u001b[0m\n\u001b[1;32m     14\u001b[0m         \u001b[0;32mif\u001b[0m \u001b[0mresponse\u001b[0m\u001b[0;34m!=\u001b[0m\u001b[0;32mNone\u001b[0m\u001b[0;34m:\u001b[0m\u001b[0;34m\u001b[0m\u001b[0m\n",
      "\u001b[0;31mNameError\u001b[0m: name 'epmc_id_lookup' is not defined"
     ]
    }
   ],
   "source": [
    "results = list()\n",
    "for index, row in hpo.iterrows():\n",
    "    row_dict = {\n",
    "        'pmcid': None,\n",
    "        'doi': row[0],\n",
    "        'pmid': None,\n",
    "        'pubyear': None,\n",
    "    }\n",
    "    if index < 500:\n",
    "        # to search by other id use row_dict['pmid]\n",
    "        pubid = row_dict['doi']\n",
    "        response = epmc_id_lookup(pubid)\n",
    "        \n",
    "        if response!=None:\n",
    "            row_dict['pmcid'] = key_check('pmcid',response)\n",
    "            row_dict['pmid'] = key_check('id',response)\n",
    "            row_dict['pubyear'] = key_check('pubYear',response)\n",
    "        else:\n",
    "#           check to see if it is a DOI\n",
    "            if (\"10.\" in pubid):\n",
    "                try: \n",
    "                    row_dict['pubyear'] = get_pub_yr_crossref(pubid)\n",
    "                except Exception as f:\n",
    "                    print (\"Failed at crossref: \"+ f)\n",
    "            else:\n",
    "                print(\"Requested \"+ pubid + \" but this call can only be used with a DOI\")\n",
    "#       append the results, whether from epmc or crossref  \n",
    "        pprint(row_dict)   \n",
    "        results.append(row_dict)\n"
   ]
  },
  {
   "cell_type": "code",
   "execution_count": 18,
   "metadata": {},
   "outputs": [],
   "source": [
    "newFrame = pd.DataFrame(data=results)\n",
    "newFrame.to_csv('mapped_ids.csv')"
   ]
  },
  {
   "cell_type": "code",
   "execution_count": 19,
   "metadata": {},
   "outputs": [
    {
     "data": {
      "text/html": [
       "<div>\n",
       "<style scoped>\n",
       "    .dataframe tbody tr th:only-of-type {\n",
       "        vertical-align: middle;\n",
       "    }\n",
       "\n",
       "    .dataframe tbody tr th {\n",
       "        vertical-align: top;\n",
       "    }\n",
       "\n",
       "    .dataframe thead th {\n",
       "        text-align: right;\n",
       "    }\n",
       "</style>\n",
       "<table border=\"1\" class=\"dataframe\">\n",
       "  <thead>\n",
       "    <tr style=\"text-align: right;\">\n",
       "      <th></th>\n",
       "    </tr>\n",
       "  </thead>\n",
       "  <tbody>\n",
       "  </tbody>\n",
       "</table>\n",
       "</div>"
      ],
      "text/plain": [
       "Empty DataFrame\n",
       "Columns: []\n",
       "Index: []"
      ]
     },
     "execution_count": 19,
     "metadata": {},
     "output_type": "execute_result"
    }
   ],
   "source": [
    "newFrame"
   ]
  },
  {
   "cell_type": "code",
   "execution_count": null,
   "metadata": {},
   "outputs": [],
   "source": []
  },
  {
   "cell_type": "code",
   "execution_count": null,
   "metadata": {},
   "outputs": [],
   "source": []
  }
 ],
 "metadata": {
  "kernelspec": {
   "display_name": "Python 3",
   "language": "python",
   "name": "python3"
  },
  "language_info": {
   "codemirror_mode": {
    "name": "ipython",
    "version": 3
   },
   "file_extension": ".py",
   "mimetype": "text/x-python",
   "name": "python",
   "nbconvert_exporter": "python",
   "pygments_lexer": "ipython3",
   "version": "3.6.3"
  }
 },
 "nbformat": 4,
 "nbformat_minor": 2
}
